{
 "cells": [
  {
   "cell_type": "code",
   "execution_count": 2,
   "id": "a2f0101c-459a-479e-b219-8f0200d6f594",
   "metadata": {},
   "outputs": [],
   "source": [
    "# standard library\n",
    "import os\n",
    "import numpy as np\n",
    "\n",
    "# dash libs\n",
    "import dash\n",
    "from dash.dependencies import Input, Output\n",
    "# import dash_core_components as dcc\n",
    "# import dash_html_components as html\n",
    "from dash import Dash, html, dcc\n",
    "import plotly.figure_factory as ff\n",
    "import plotly.graph_objs as go\n",
    "\n",
    "# pydata stack\n",
    "import pandas as pd\n",
    "from sqlalchemy import create_engine\n"
   ]
  },
  {
   "cell_type": "code",
   "execution_count": 4,
   "id": "fcf36407-6819-4cd3-b848-b8fdfc28b0ea",
   "metadata": {},
   "outputs": [
    {
     "data": {
      "text/plain": [
       "'\\n\\nmkdir PlotlyDash_Data_Integration && cd PlotlyDash_Data_Integration\\nmkvirtualenv DashPlotly\\nwget https://github.com/alikeivanmarz/PlotlyDash_Data_Integration/blob/main/master/requirements.txt\\npip install -r requirements.txt\\n\\n'"
      ]
     },
     "execution_count": 4,
     "metadata": {},
     "output_type": "execute_result"
    }
   ],
   "source": [
    "'''\n",
    "# install the requirements file:\n",
    "mkdir PlotlyDash_Data_Integration && cd PlotlyDash_Data_Integration\n",
    "mkvirtualenv DashPlotly\n",
    "wget https://github.com/alikeivanmarz/PlotlyDash_Data_Integration/blob/main/master/requirements.txt\n",
    "pip install -r requirements.txt\n",
    "'''\n",
    "\n",
    "\n",
    "'''\n",
    "# get SQLite database:\n",
    "wget https://github.com/alikeivanmarz/PlotlyDash_Data_Integration/blob/main/master/soccer-stats.db?raw=true soccer-stats.db\n",
    "'''\n",
    "\n",
    "\n",
    "'''\n",
    "Download the Dash app:\n",
    "wget https://github.com/alikeivanmarz/PlotlyDash_Data_Integration/blob/main/dash_app.py app.py\n",
    "'''"
   ]
  },
  {
   "cell_type": "code",
   "execution_count": null,
   "id": "2945f49f-3095-4e18-a698-e1cd223804c6",
   "metadata": {},
   "outputs": [],
   "source": []
  }
 ],
 "metadata": {
  "kernelspec": {
   "display_name": "Python 3 (ipykernel)",
   "language": "python",
   "name": "python3"
  },
  "language_info": {
   "codemirror_mode": {
    "name": "ipython",
    "version": 3
   },
   "file_extension": ".py",
   "mimetype": "text/x-python",
   "name": "python",
   "nbconvert_exporter": "python",
   "pygments_lexer": "ipython3",
   "version": "3.9.13"
  }
 },
 "nbformat": 4,
 "nbformat_minor": 5
}
