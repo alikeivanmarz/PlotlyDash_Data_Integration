{
 "cells": [
  {
   "cell_type": "code",
   "execution_count": 1,
   "id": "a2f0101c-459a-479e-b219-8f0200d6f594",
   "metadata": {},
   "outputs": [
    {
     "name": "stderr",
     "output_type": "stream",
     "text": [
      "C:\\Users\\alike\\AppData\\Local\\Temp\\ipykernel_8696\\999982585.py:8: UserWarning: \n",
      "The dash_core_components package is deprecated. Please replace\n",
      "`import dash_core_components as dcc` with `from dash import dcc`\n",
      "  import dash_core_components as dcc\n",
      "C:\\Users\\alike\\AppData\\Local\\Temp\\ipykernel_8696\\999982585.py:9: UserWarning: \n",
      "The dash_html_components package is deprecated. Please replace\n",
      "`import dash_html_components as html` with `from dash import html`\n",
      "  import dash_html_components as html\n"
     ]
    }
   ],
   "source": [
    "# standard library\n",
    "import os\n",
    "import numpy as np\n",
    "\n",
    "# dash libs\n",
    "import dash\n",
    "from dash.dependencies import Input, Output\n",
    "import dash_core_components as dcc\n",
    "import dash_html_components as html\n",
    "import plotly.figure_factory as ff\n",
    "import plotly.graph_objs as go\n",
    "\n",
    "# pydata stack\n",
    "import pandas as pd\n",
    "from sqlalchemy import create_engine\n"
   ]
  },
  {
   "cell_type": "code",
   "execution_count": null,
   "id": "fcf36407-6819-4cd3-b848-b8fdfc28b0ea",
   "metadata": {},
   "outputs": [],
   "source": [
    "mkdir historical-results-dashboard && cd historical-results-dashboard\n",
    "mkvirtualenv dash-app\n",
    "wget https://raw.githubusercontent.com/alysivji/historical-results-dashboard/master/requirements.txt\n",
    "pip install -r requirements.txt"
   ]
  }
 ],
 "metadata": {
  "kernelspec": {
   "display_name": "Python 3 (ipykernel)",
   "language": "python",
   "name": "python3"
  },
  "language_info": {
   "codemirror_mode": {
    "name": "ipython",
    "version": 3
   },
   "file_extension": ".py",
   "mimetype": "text/x-python",
   "name": "python",
   "nbconvert_exporter": "python",
   "pygments_lexer": "ipython3",
   "version": "3.9.13"
  }
 },
 "nbformat": 4,
 "nbformat_minor": 5
}
