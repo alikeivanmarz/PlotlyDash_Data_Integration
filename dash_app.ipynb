{
 "cells": [
  {
   "cell_type": "code",
   "execution_count": 39,
   "id": "a2f0101c-459a-479e-b219-8f0200d6f594",
   "metadata": {},
   "outputs": [],
   "source": [
    "# standard library\n",
    "import os\n",
    "import numpy as np\n",
    "import wget\n",
    "\n",
    "# dash libs\n",
    "import dash\n",
    "from dash.dependencies import Input, Output\n",
    "import dash_core_components as dcc\n",
    "import dash_html_components as html\n",
    "# from dash import Dash, html, dcc\n",
    "import plotly.figure_factory as ff\n",
    "import plotly.graph_objs as go\n",
    "\n",
    "# pydata stack\n",
    "import pandas as pd\n",
    "from sqlalchemy import create_engine\n"
   ]
  },
  {
   "cell_type": "code",
   "execution_count": 26,
   "id": "fcf36407-6819-4cd3-b848-b8fdfc28b0ea",
   "metadata": {},
   "outputs": [
    {
     "data": {
      "text/plain": [
       "'\\nDownload the Dash app:\\nwget https://github.com/alikeivanmarz/PlotlyDash_Data_Integration/blob/main/dash_app.py app.py\\n'"
      ]
     },
     "execution_count": 26,
     "metadata": {},
     "output_type": "execute_result"
    }
   ],
   "source": [
    "'''\n",
    "# install the requirements file:\n",
    "mkdir PlotlyDash_Data_Integration && cd PlotlyDash_Data_Integration\n",
    "mkvirtualenv DashPlotly\n",
    "wget https://github.com/alikeivanmarz/PlotlyDash_Data_Integration/blob/main/master/requirements.txt\n",
    "pip install -r requirements.txt\n",
    "'''\n",
    "\n",
    "\n",
    "'''\n",
    "# get SQLite database:\n",
    "wget https://github.com/alikeivanmarz/PlotlyDash_Data_Integration/blob/main/master/soccer-stats.db?raw=true soccer-stats.db\n",
    "\n",
    "wget.download(url='https://github.com/alysivji/historical-results-dashboard/blob/master/soccer-stats.db', out='master/')\n",
    "os.rename('master/soccer-stats.db', 'master/soccer-stats.db')\n",
    "'''\n",
    "\n",
    "\n",
    "'''\n",
    "Download the Dash app:\n",
    "wget https://github.com/alikeivanmarz/PlotlyDash_Data_Integration/blob/main/dash_app.py app.py\n",
    "'''"
   ]
  },
  {
   "cell_type": "code",
   "execution_count": 42,
   "id": "2945f49f-3095-4e18-a698-e1cd223804c6",
   "metadata": {},
   "outputs": [
    {
     "name": "stdout",
     "output_type": "stream",
     "text": [
      "Dash is running on http://127.0.0.1:8050/\n",
      "\n",
      "Dash is running on http://127.0.0.1:8050/\n",
      "\n",
      "Dash is running on http://127.0.0.1:8050/\n",
      "\n",
      "Dash is running on http://127.0.0.1:8050/\n",
      "\n",
      "Dash is running on http://127.0.0.1:8050/\n",
      "\n",
      "Dash is running on http://127.0.0.1:8050/\n",
      "\n",
      " * Serving Flask app '__main__'\n",
      " * Debug mode: off\n"
     ]
    },
    {
     "name": "stderr",
     "output_type": "stream",
     "text": [
      "WARNING: This is a development server. Do not use it in a production deployment. Use a production WSGI server instead.\n",
      " * Running on http://127.0.0.1:8050\n",
      "Press CTRL+C to quit\n",
      "127.0.0.1 - - [06/Sep/2022 15:51:21] \"GET / HTTP/1.1\" 200 -\n",
      "127.0.0.1 - - [06/Sep/2022 15:51:21] \"GET /_dash-component-suites/dash/deps/polyfill@7.v2_6_1m1659522771.12.1.min.js HTTP/1.1\" 200 -\n",
      "127.0.0.1 - - [06/Sep/2022 15:51:21] \"GET /_dash-component-suites/dash/deps/react@16.v2_6_1m1659522771.14.0.min.js HTTP/1.1\" 200 -\n",
      "127.0.0.1 - - [06/Sep/2022 15:51:21] \"GET /_dash-component-suites/dash/deps/react-dom@16.v2_6_1m1659522771.14.0.min.js HTTP/1.1\" 200 -\n",
      "127.0.0.1 - - [06/Sep/2022 15:51:21] \"GET /_dash-component-suites/dash/deps/prop-types@15.v2_6_1m1659522771.8.1.min.js HTTP/1.1\" 200 -\n",
      "127.0.0.1 - - [06/Sep/2022 15:51:21] \"GET /_dash-component-suites/dash/dash-renderer/build/dash_renderer.v2_6_1m1659522771.min.js HTTP/1.1\" 200 -\n",
      "127.0.0.1 - - [06/Sep/2022 15:51:21] \"GET /_dash-component-suites/dash/dcc/dash_core_components.v2_6_1m1659522771.js HTTP/1.1\" 200 -\n",
      "127.0.0.1 - - [06/Sep/2022 15:51:21] \"GET /_dash-component-suites/dash/html/dash_html_components.v2_0_5m1659522771.min.js HTTP/1.1\" 200 -\n",
      "127.0.0.1 - - [06/Sep/2022 15:51:21] \"GET /_dash-component-suites/dash/dcc/dash_core_components-shared.v2_6_1m1659522771.js HTTP/1.1\" 200 -\n",
      "127.0.0.1 - - [06/Sep/2022 15:51:21] \"GET /_dash-component-suites/dash/dash_table/bundle.v5_1_5m1659522771.js HTTP/1.1\" 200 -\n",
      "127.0.0.1 - - [06/Sep/2022 15:51:22] \"GET /_dash-layout HTTP/1.1\" 200 -\n",
      "127.0.0.1 - - [06/Sep/2022 15:51:22] \"GET /_dash-dependencies HTTP/1.1\" 200 -\n",
      "127.0.0.1 - - [06/Sep/2022 15:51:22] \"GET /_dash-component-suites/dash/dcc/async-dropdown.js HTTP/1.1\" 200 -\n",
      "127.0.0.1 - - [06/Sep/2022 15:51:22] \"GET /_dash-component-suites/dash/dcc/async-graph.js HTTP/1.1\" 200 -\n",
      "127.0.0.1 - - [06/Sep/2022 15:51:22] \"GET /_favicon.ico?v=2.6.1 HTTP/1.1\" 200 -\n",
      "127.0.0.1 - - [06/Sep/2022 15:51:22] \"GET /_dash-component-suites/dash/dcc/async-plotlyjs.js HTTP/1.1\" 200 -\n",
      "127.0.0.1 - - [06/Sep/2022 15:51:22] \"POST /_dash-update-component HTTP/1.1\" 200 -\n"
     ]
    },
    {
     "name": "stdout",
     "output_type": "stream",
     "text": [
      "GOOG\n"
     ]
    },
    {
     "name": "stderr",
     "output_type": "stream",
     "text": [
      "127.0.0.1 - - [06/Sep/2022 15:56:08] \"POST /_dash-update-component HTTP/1.1\" 200 -\n"
     ]
    },
    {
     "name": "stdout",
     "output_type": "stream",
     "text": [
      "AAPL\n"
     ]
    }
   ],
   "source": [
    "\n",
    "import dash\n",
    "import dash_html_components as html\n",
    "import plotly.graph_objects as go\n",
    "import dash_core_components as dcc\n",
    "import plotly.express as px\n",
    "from dash.dependencies import Input, Output\n",
    "\n",
    "\n",
    "app = dash.Dash()\n",
    "\n",
    "df = px.data.stocks()\n",
    "\n",
    "\n",
    "app.layout = html.Div(id = 'parent', children = [\n",
    "    html.H1(id = 'H1', children = 'Styling using html components', style = {'textAlign':'center',\\\n",
    "                                            'marginTop':40,'marginBottom':40}),\n",
    "\n",
    "        dcc.Dropdown( id = 'dropdown',\n",
    "        options = [\n",
    "            {'label':'Google', 'value':'GOOG' },\n",
    "            {'label': 'Apple', 'value':'AAPL'},\n",
    "            {'label': 'Amazon', 'value':'AMZN'},\n",
    "            ],\n",
    "        value = 'GOOG'),\n",
    "        dcc.Graph(id = 'bar_plot')\n",
    "    ])\n",
    "    \n",
    "    \n",
    "@app.callback(Output(component_id='bar_plot', component_property= 'figure'),\n",
    "              [Input(component_id='dropdown', component_property= 'value')])\n",
    "def graph_update(dropdown_value):\n",
    "    print(dropdown_value)\n",
    "    fig = go.Figure([go.Scatter(x = df['date'], y = df['{}'.format(dropdown_value)],\\\n",
    "                     line = dict(color = 'firebrick', width = 4))\n",
    "                     ])\n",
    "    \n",
    "    fig.update_layout(title = 'Stock prices over time',\n",
    "                      xaxis_title = 'Dates',\n",
    "                      yaxis_title = 'Prices'\n",
    "                      )\n",
    "    return fig  \n",
    "\n",
    "\n",
    "\n",
    "if __name__ == '__main__': \n",
    "    app.run_server()"
   ]
  },
  {
   "cell_type": "code",
   "execution_count": null,
   "id": "7ec53a92-f02f-437f-874a-d6a27e870210",
   "metadata": {},
   "outputs": [],
   "source": []
  },
  {
   "cell_type": "code",
   "execution_count": null,
   "id": "71963e11-dce6-43d8-947a-da7ad7ae3243",
   "metadata": {},
   "outputs": [],
   "source": []
  }
 ],
 "metadata": {
  "kernelspec": {
   "display_name": "Python 3 (ipykernel)",
   "language": "python",
   "name": "python3"
  },
  "language_info": {
   "codemirror_mode": {
    "name": "ipython",
    "version": 3
   },
   "file_extension": ".py",
   "mimetype": "text/x-python",
   "name": "python",
   "nbconvert_exporter": "python",
   "pygments_lexer": "ipython3",
   "version": "3.9.13"
  }
 },
 "nbformat": 4,
 "nbformat_minor": 5
}
